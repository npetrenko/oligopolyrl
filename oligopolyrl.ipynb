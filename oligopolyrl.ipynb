{
 "cells": [
  {
   "cell_type": "code",
   "execution_count": 1,
   "metadata": {
    "collapsed": false
   },
   "outputs": [
    {
     "name": "stdout",
     "output_type": "stream",
     "text": [
      "env: OMP_NUM_THREADS=12\n",
      "env: THEANO_FLAGS=device=gpu2\n"
     ]
    },
    {
     "name": "stderr",
     "output_type": "stream",
     "text": [
      "WARNING (theano.sandbox.cuda): The cuda backend is deprecated and will be removed in the next release (v0.10).  Please switch to the gpuarray backend. You can get more information about how to switch at this URL:\n",
      " https://github.com/Theano/Theano/wiki/Converting-to-the-new-gpu-back-end%28gpuarray%29\n",
      "\n",
      "Using gpu device 2: Tesla K80 (CNMeM is enabled with initial size: 19.0% of memory, cuDNN 5110)\n"
     ]
    }
   ],
   "source": [
    "%env OMP_NUM_THREADS=12\n",
    "%env THEANO_FLAGS=device=gpu2\n",
    "import lasagne\n",
    "import theano\n",
    "from theano import tensor as tt\n",
    "import numpy as np\n",
    "from lasagne import layers\n",
    "import random\n",
    "\n",
    "from IPython.display import clear_output\n",
    "from matplotlib import pyplot as plt"
   ]
  },
  {
   "cell_type": "code",
   "execution_count": 2,
   "metadata": {
    "collapsed": true
   },
   "outputs": [],
   "source": [
    "#theano.config.mode = 'FAST_COMPILE'\n",
    "#theano.config.exception_verbosity = 'high'"
   ]
  },
  {
   "cell_type": "code",
   "execution_count": 3,
   "metadata": {
    "collapsed": true
   },
   "outputs": [],
   "source": [
    "game = np.array([[[2,2],[-1,3]],[[3,-1],[1,1]]], dtype='float32')"
   ]
  },
  {
   "cell_type": "code",
   "execution_count": 4,
   "metadata": {
    "collapsed": true
   },
   "outputs": [],
   "source": [
    "n_agents = 2\n",
    "n_actions = 2\n",
    "delta = 0.75"
   ]
  },
  {
   "cell_type": "code",
   "execution_count": 5,
   "metadata": {
    "collapsed": false
   },
   "outputs": [],
   "source": [
    "class zombie():\n",
    "    def __init__(self):\n",
    "        self.triggered = False\n",
    "    def response(self):\n",
    "        if self.triggered:\n",
    "            return 1\n",
    "        return 0\n",
    "    def update(self, add_act):\n",
    "        if add_act != [0,0]:\n",
    "            self.triggered = True"
   ]
  },
  {
   "cell_type": "code",
   "execution_count": 6,
   "metadata": {
    "collapsed": false
   },
   "outputs": [],
   "source": [
    "def get_q_func(input_var):\n",
    "    inp = layers.InputLayer((None,None,n_agents*n_actions), input_var=input_var)\n",
    "\n",
    "    nun = 40\n",
    "    r0 = layers.LSTMLayer(inp, num_units=70)\n",
    "    r0 = layers.LSTMLayer(r0, num_units=50, nonlinearity=tt.nnet.elu)\n",
    "    r1 = layers.LSTMLayer(r0, num_units=nun, nonlinearity=tt.nnet.elu)\n",
    "\n",
    "    bsize, seqlen, _ = layers.get_output(r1).shape\n",
    "\n",
    "    res = layers.ReshapeLayer(r1, (bsize*seqlen, nun))\n",
    "\n",
    "    d1 = layers.DenseLayer(res, num_units=25, nonlinearity=tt.nnet.elu)\n",
    "    d2 = layers.DenseLayer(d1, num_units=n_actions, nonlinearity=None)\n",
    "\n",
    "    out = layers.ReshapeLayer(d2, (bsize, seqlen, n_actions))\n",
    "    return layers.get_all_params(out), layers.get_output(out), layers.get_output(out)[:,1:,:]"
   ]
  },
  {
   "cell_type": "code",
   "execution_count": 7,
   "metadata": {
    "collapsed": true
   },
   "outputs": [],
   "source": [
    "def action_encoder(arr):\n",
    "    arr = np.array(arr).copy()\n",
    "    ret = np.zeros(n_agents*n_actions)\n",
    "    for i in range(n_agents):\n",
    "        arr[i] *= 2**i\n",
    "    ret[np.sum(arr)] = 1\n",
    "    return list(ret)"
   ]
  },
  {
   "cell_type": "code",
   "execution_count": 8,
   "metadata": {
    "collapsed": false
   },
   "outputs": [],
   "source": [
    "class agent():\n",
    "    def __init__(self, agresp = None, agupd = None):\n",
    "        if not (agresp and agupd):\n",
    "            var = tt.ftensor3()\n",
    "            params1, q1, nextq1 = get_q_func(var)\n",
    "            params2, q2, nextq2 = get_q_func(var)\n",
    "\n",
    "            reward = tt.matrix()\n",
    "            \n",
    "            a1 = tt.argmax(nextq2, axis=-1)\n",
    "            ix = nextq1[tt.arange(nextq1.shape[0]).reshape((-1, 1)), tt.arange(nextq1.shape[1]), a1]\n",
    "            target1 = reward + delta*theano.gradient.disconnected_grad(ix)\n",
    "            \n",
    "            a2 = tt.argmax(nextq1, axis=-1)\n",
    "            ix = nextq2[tt.arange(nextq2.shape[0]).reshape((-1, 1)), tt.arange(nextq2.shape[1]), a2]\n",
    "            target2 = reward + delta*theano.gradient.disconnected_grad(ix)\n",
    "            \n",
    "            self.reward = reward\n",
    "            self.target = target1\n",
    "            self.var = var\n",
    "            self.nexq = nextq1\n",
    "            self.q = q1\n",
    "            #future fix needed (pribably)\n",
    "            action = tt.imatrix()\n",
    "            loss1 = tt.mean((theano.map(lambda i: tt.diagonal(q1[:,i,action[:,i]])-target1[:,i], tt.arange(q1.shape[1]-1))[0])**2)\n",
    "            loss2 = tt.mean((theano.map(lambda i: tt.diagonal(q2[:,i,action[:,i]])-target2[:,i], tt.arange(q2.shape[1]-1))[0])**2)\n",
    "        \n",
    "        if agupd:\n",
    "            self.updates1, self.updates2 = agupd\n",
    "        else:\n",
    "            lr = tt.fscalar()\n",
    "            self.updates1 = lasagne.updates.adam(loss1, params=params1,learning_rate=lr)\n",
    "            self.updates1 = theano.function([var, reward, action, lr], updates=self.updates1)\n",
    "            \n",
    "            self.updates2 = lasagne.updates.adam(loss2, params=params2,learning_rate=lr)\n",
    "            self.updates2 = theano.function([var, reward, action, lr], updates=self.updates2)\n",
    "        \n",
    "        if agresp:\n",
    "            self.responser = agresp\n",
    "        else:\n",
    "            self.responser = theano.function([var], tt.argmax(q1[:,-1], axis=-1))\n",
    "        \n",
    "        self.history = []\n",
    "        self.encoded_history = []\n",
    "        self.rewards = []\n",
    "        self.actions = []\n",
    "    def response(self):\n",
    "        return self.responser([self.encoded_history])[0]\n",
    "    def update(self, add_act):\n",
    "        self.history += [add_act]\n",
    "        self.actions += [add_act[1]]\n",
    "        self.encoded_history += [action_encoder(np.array(add_act))]\n",
    "        reward = game[add_act[0], add_act[1]][-1]\n",
    "        \n",
    "        self.rewards += [reward]\n",
    "        #self.updates([self.encoded_history], [self.rewards], [self.actions])"
   ]
  },
  {
   "cell_type": "code",
   "execution_count": 9,
   "metadata": {
    "collapsed": false
   },
   "outputs": [],
   "source": [
    "ag = agent()"
   ]
  },
  {
   "cell_type": "code",
   "execution_count": 10,
   "metadata": {
    "collapsed": false
   },
   "outputs": [
    {
     "data": {
      "text/plain": [
       "array([[[ -1.99894770e-04,   4.57624010e-05],\n",
       "        [ -4.29153180e-04,   3.76423595e-05],\n",
       "        [ -5.73987607e-04,  -2.12518389e-05],\n",
       "        [ -6.12566597e-04,  -1.00674049e-04],\n",
       "        [ -5.66225266e-04,  -1.81385243e-04],\n",
       "        [ -4.65229154e-04,  -2.57062726e-04],\n",
       "        [ -3.35066870e-04,  -3.27507907e-04],\n",
       "        [ -1.93729036e-04,  -3.93649039e-04],\n",
       "        [ -5.29429344e-05,  -4.55695816e-04],\n",
       "        [  8.00874041e-05,  -5.13014500e-04]]], dtype=float32)"
      ]
     },
     "execution_count": 10,
     "metadata": {},
     "output_type": "execute_result"
    }
   ],
   "source": [
    "ag.q.eval({ag.var : np.array([[[1.,0.,0.,0.]]*10], dtype='float32')})*(1-delta)"
   ]
  },
  {
   "cell_type": "code",
   "execution_count": 11,
   "metadata": {
    "collapsed": false
   },
   "outputs": [],
   "source": [
    "agresp, agupd = ag.responser, [ag.updates1, ag.updates2]"
   ]
  },
  {
   "cell_type": "code",
   "execution_count": 12,
   "metadata": {
    "collapsed": false
   },
   "outputs": [],
   "source": [
    "#ag = agent(agresp, agupd)"
   ]
  },
  {
   "cell_type": "code",
   "execution_count": 13,
   "metadata": {
    "collapsed": false
   },
   "outputs": [],
   "source": [
    "#ag.update([0,0])\n",
    "#ag.update([0,0])"
   ]
  },
  {
   "cell_type": "code",
   "execution_count": 14,
   "metadata": {
    "collapsed": true
   },
   "outputs": [],
   "source": [
    "#ag.update([0,0])"
   ]
  },
  {
   "cell_type": "code",
   "execution_count": 15,
   "metadata": {
    "collapsed": false
   },
   "outputs": [],
   "source": [
    "#ag.actions"
   ]
  },
  {
   "cell_type": "code",
   "execution_count": 16,
   "metadata": {
    "collapsed": false
   },
   "outputs": [],
   "source": [
    "#ag.response()"
   ]
  },
  {
   "cell_type": "code",
   "execution_count": 17,
   "metadata": {
    "collapsed": false
   },
   "outputs": [],
   "source": [
    "#ag.history"
   ]
  },
  {
   "cell_type": "code",
   "execution_count": 18,
   "metadata": {
    "collapsed": true
   },
   "outputs": [],
   "source": [
    "k = 20\n",
    "class env():\n",
    "    #eps = 0.5\n",
    "    def __init__(self, agresp, agupd):\n",
    "        self.ag = agent(agresp, agupd)\n",
    "        self.zomb = zombie()\n",
    "        self.init = True \n",
    "        self.init_agents()\n",
    "        \n",
    "    def init_agents(self):\n",
    "        for _ in range(2):\n",
    "            resp = [random.randint(0,k)/(k+1),random.randint(0,k)/(k+1)]\n",
    "            self.zomb.update(resp)\n",
    "            self.ag.update(resp)\n",
    "\n",
    "    def roll(self, agr = None):\n",
    "        if not agr:\n",
    "            agr = self.ag.response()\n",
    "        agr = np.random.choice([agr, self.zomb.response(), np.random.choice([0,1])], p=[0.65,0.,0.35])\n",
    "        resp = [self.zomb.response(), agr]\n",
    "        self.zomb.update(resp)\n",
    "        self.ag.update(resp)\n",
    "    def __call__(self):\n",
    "        return self.ag.encoded_history"
   ]
  },
  {
   "cell_type": "code",
   "execution_count": 19,
   "metadata": {
    "collapsed": true
   },
   "outputs": [],
   "source": [
    "rews = []\n",
    "drews = []"
   ]
  },
  {
   "cell_type": "code",
   "execution_count": null,
   "metadata": {
    "collapsed": false,
    "scrolled": false
   },
   "outputs": [
    {
     "data": {
      "image/png": "[encoded data removed]",
      "text/plain": [
       "<matplotlib.figure.Figure at 0x7fb52588ff50>"
      ]
     },
     "metadata": {},
     "output_type": "display_data"
    },
    {
     "data": {
      "image/png": "[encoded data removed]",
      "text/plain": [
       "<matplotlib.figure.Figure at 0x7fb4fc6f44d0>"
      ]
     },
     "metadata": {},
     "output_type": "display_data"
    },
    {
     "name": "stdout",
     "output_type": "stream",
     "text": [
      "0.666666666667\n",
      "[[[ 1.86516714  1.48265481]\n",
      "  [ 1.83199668  1.68821418]\n",
      "  [ 1.84623349  1.69914031]\n",
      "  [ 1.85000467  1.69253755]\n",
      "  [ 1.3964293   1.44612408]\n",
      "  [ 0.920771    1.19581473]\n",
      "  [ 0.47501174  0.96461326]\n",
      "  [ 0.50502157  0.97840327]\n",
      "  [ 0.48879573  0.97262841]\n",
      "  [ 0.490392    0.97324145]]]\n"
     ]
    },
    {
     "ename": "KeyboardInterrupt",
     "evalue": "",
     "output_type": "error",
     "traceback": [
      "\u001b[0;31m---------------------------------------------------------------------------\u001b[0m",
      "\u001b[0;31mKeyboardInterrupt\u001b[0m                         Traceback (most recent call last)",
      "\u001b[0;32m<ipython-input-20-997467f42533>\u001b[0m in \u001b[0;36m<module>\u001b[0;34m()\u001b[0m\n\u001b[1;32m      8\u001b[0m         \u001b[0mbatched_resp\u001b[0m \u001b[0;34m=\u001b[0m \u001b[0magresp\u001b[0m\u001b[0;34m(\u001b[0m\u001b[0mbatched_history\u001b[0m\u001b[0;34m)\u001b[0m\u001b[0;34m\u001b[0m\u001b[0m\n\u001b[1;32m      9\u001b[0m         \u001b[0;32mfor\u001b[0m \u001b[0mi\u001b[0m\u001b[0;34m,\u001b[0m \u001b[0menvi\u001b[0m \u001b[0;32min\u001b[0m \u001b[0menumerate\u001b[0m\u001b[0;34m(\u001b[0m\u001b[0menv_pool\u001b[0m\u001b[0;34m)\u001b[0m\u001b[0;34m:\u001b[0m\u001b[0;34m\u001b[0m\u001b[0m\n\u001b[0;32m---> 10\u001b[0;31m             \u001b[0menvi\u001b[0m\u001b[0;34m.\u001b[0m\u001b[0mroll\u001b[0m\u001b[0;34m(\u001b[0m\u001b[0mbatched_resp\u001b[0m\u001b[0;34m[\u001b[0m\u001b[0mi\u001b[0m\u001b[0;34m]\u001b[0m\u001b[0;34m)\u001b[0m\u001b[0;34m\u001b[0m\u001b[0m\n\u001b[0m\u001b[1;32m     11\u001b[0m \u001b[0;34m\u001b[0m\u001b[0m\n\u001b[1;32m     12\u001b[0m         \u001b[0mbatched_history\u001b[0m \u001b[0;34m=\u001b[0m \u001b[0;34m[\u001b[0m\u001b[0menvi\u001b[0m\u001b[0;34m(\u001b[0m\u001b[0;34m)\u001b[0m \u001b[0;32mfor\u001b[0m \u001b[0menvi\u001b[0m \u001b[0;32min\u001b[0m \u001b[0menv_pool\u001b[0m\u001b[0;34m]\u001b[0m\u001b[0;34m\u001b[0m\u001b[0m\n",
      "\u001b[0;32m<ipython-input-18-73da948a13c7>\u001b[0m in \u001b[0;36mroll\u001b[0;34m(self, agr)\u001b[0m\n\u001b[1;32m     16\u001b[0m     \u001b[0;32mdef\u001b[0m \u001b[0mroll\u001b[0m\u001b[0;34m(\u001b[0m\u001b[0mself\u001b[0m\u001b[0;34m,\u001b[0m \u001b[0magr\u001b[0m \u001b[0;34m=\u001b[0m \u001b[0mNone\u001b[0m\u001b[0;34m)\u001b[0m\u001b[0;34m:\u001b[0m\u001b[0;34m\u001b[0m\u001b[0m\n\u001b[1;32m     17\u001b[0m         \u001b[0;32mif\u001b[0m \u001b[0;32mnot\u001b[0m \u001b[0magr\u001b[0m\u001b[0;34m:\u001b[0m\u001b[0;34m\u001b[0m\u001b[0m\n\u001b[0;32m---> 18\u001b[0;31m             \u001b[0magr\u001b[0m \u001b[0;34m=\u001b[0m \u001b[0mself\u001b[0m\u001b[0;34m.\u001b[0m\u001b[0mag\u001b[0m\u001b[0;34m.\u001b[0m\u001b[0mresponse\u001b[0m\u001b[0;34m(\u001b[0m\u001b[0;34m)\u001b[0m\u001b[0;34m\u001b[0m\u001b[0m\n\u001b[0m\u001b[1;32m     19\u001b[0m         \u001b[0magr\u001b[0m \u001b[0;34m=\u001b[0m \u001b[0mnp\u001b[0m\u001b[0;34m.\u001b[0m\u001b[0mrandom\u001b[0m\u001b[0;34m.\u001b[0m\u001b[0mchoice\u001b[0m\u001b[0;34m(\u001b[0m\u001b[0;34m[\u001b[0m\u001b[0magr\u001b[0m\u001b[0;34m,\u001b[0m \u001b[0mself\u001b[0m\u001b[0;34m.\u001b[0m\u001b[0mzomb\u001b[0m\u001b[0;34m.\u001b[0m\u001b[0mresponse\u001b[0m\u001b[0;34m(\u001b[0m\u001b[0;34m)\u001b[0m\u001b[0;34m,\u001b[0m \u001b[0mnp\u001b[0m\u001b[0;34m.\u001b[0m\u001b[0mrandom\u001b[0m\u001b[0;34m.\u001b[0m\u001b[0mchoice\u001b[0m\u001b[0;34m(\u001b[0m\u001b[0;34m[\u001b[0m\u001b[0;36m0\u001b[0m\u001b[0;34m,\u001b[0m\u001b[0;36m1\u001b[0m\u001b[0;34m]\u001b[0m\u001b[0;34m)\u001b[0m\u001b[0;34m]\u001b[0m\u001b[0;34m,\u001b[0m \u001b[0mp\u001b[0m\u001b[0;34m=\u001b[0m\u001b[0;34m[\u001b[0m\u001b[0;36m0.65\u001b[0m\u001b[0;34m,\u001b[0m\u001b[0;36m0.\u001b[0m\u001b[0;34m,\u001b[0m\u001b[0;36m0.35\u001b[0m\u001b[0;34m]\u001b[0m\u001b[0;34m)\u001b[0m\u001b[0;34m\u001b[0m\u001b[0m\n\u001b[1;32m     20\u001b[0m         \u001b[0mresp\u001b[0m \u001b[0;34m=\u001b[0m \u001b[0;34m[\u001b[0m\u001b[0mself\u001b[0m\u001b[0;34m.\u001b[0m\u001b[0mzomb\u001b[0m\u001b[0;34m.\u001b[0m\u001b[0mresponse\u001b[0m\u001b[0;34m(\u001b[0m\u001b[0;34m)\u001b[0m\u001b[0;34m,\u001b[0m \u001b[0magr\u001b[0m\u001b[0;34m]\u001b[0m\u001b[0;34m\u001b[0m\u001b[0m\n",
      "\u001b[0;32m<ipython-input-8-297ccc7d6a27>\u001b[0m in \u001b[0;36mresponse\u001b[0;34m(self)\u001b[0m\n\u001b[1;32m     46\u001b[0m         \u001b[0mself\u001b[0m\u001b[0;34m.\u001b[0m\u001b[0mactions\u001b[0m \u001b[0;34m=\u001b[0m \u001b[0;34m[\u001b[0m\u001b[0;34m]\u001b[0m\u001b[0;34m\u001b[0m\u001b[0m\n\u001b[1;32m     47\u001b[0m     \u001b[0;32mdef\u001b[0m \u001b[0mresponse\u001b[0m\u001b[0;34m(\u001b[0m\u001b[0mself\u001b[0m\u001b[0;34m)\u001b[0m\u001b[0;34m:\u001b[0m\u001b[0;34m\u001b[0m\u001b[0m\n\u001b[0;32m---> 48\u001b[0;31m         \u001b[0;32mreturn\u001b[0m \u001b[0mself\u001b[0m\u001b[0;34m.\u001b[0m\u001b[0mresponser\u001b[0m\u001b[0;34m(\u001b[0m\u001b[0;34m[\u001b[0m\u001b[0mself\u001b[0m\u001b[0;34m.\u001b[0m\u001b[0mencoded_history\u001b[0m\u001b[0;34m]\u001b[0m\u001b[0;34m)\u001b[0m\u001b[0;34m[\u001b[0m\u001b[0;36m0\u001b[0m\u001b[0;34m]\u001b[0m\u001b[0;34m\u001b[0m\u001b[0m\n\u001b[0m\u001b[1;32m     49\u001b[0m     \u001b[0;32mdef\u001b[0m \u001b[0mupdate\u001b[0m\u001b[0;34m(\u001b[0m\u001b[0mself\u001b[0m\u001b[0;34m,\u001b[0m \u001b[0madd_act\u001b[0m\u001b[0;34m)\u001b[0m\u001b[0;34m:\u001b[0m\u001b[0;34m\u001b[0m\u001b[0m\n\u001b[1;32m     50\u001b[0m         \u001b[0mself\u001b[0m\u001b[0;34m.\u001b[0m\u001b[0mhistory\u001b[0m \u001b[0;34m+=\u001b[0m \u001b[0;34m[\u001b[0m\u001b[0madd_act\u001b[0m\u001b[0;34m]\u001b[0m\u001b[0;34m\u001b[0m\u001b[0m\n",
      "\u001b[0;32m/anaconda2/lib/python2.7/site-packages/theano/compile/function_module.pyc\u001b[0m in \u001b[0;36m__call__\u001b[0;34m(self, *args, **kwargs)\u001b[0m\n\u001b[1;32m    945\u001b[0m         \u001b[0;31m#\u001b[0m\u001b[0;34m\u001b[0m\u001b[0;34m\u001b[0m\u001b[0m\n\u001b[1;32m    946\u001b[0m \u001b[0;34m\u001b[0m\u001b[0m\n\u001b[0;32m--> 947\u001b[0;31m         \u001b[0mdt_call\u001b[0m \u001b[0;34m=\u001b[0m \u001b[0mtime\u001b[0m\u001b[0;34m.\u001b[0m\u001b[0mtime\u001b[0m\u001b[0;34m(\u001b[0m\u001b[0;34m)\u001b[0m \u001b[0;34m-\u001b[0m \u001b[0mt0\u001b[0m\u001b[0;34m\u001b[0m\u001b[0m\n\u001b[0m\u001b[1;32m    948\u001b[0m         \u001b[0mtheano\u001b[0m\u001b[0;34m.\u001b[0m\u001b[0mcompile\u001b[0m\u001b[0;34m.\u001b[0m\u001b[0mprofiling\u001b[0m\u001b[0;34m.\u001b[0m\u001b[0mtotal_fct_exec_time\u001b[0m \u001b[0;34m+=\u001b[0m \u001b[0mdt_call\u001b[0m\u001b[0;34m\u001b[0m\u001b[0m\n\u001b[1;32m    949\u001b[0m         \u001b[0mself\u001b[0m\u001b[0;34m.\u001b[0m\u001b[0mmaker\u001b[0m\u001b[0;34m.\u001b[0m\u001b[0mmode\u001b[0m\u001b[0;34m.\u001b[0m\u001b[0mcall_time\u001b[0m \u001b[0;34m+=\u001b[0m \u001b[0mdt_call\u001b[0m\u001b[0;34m\u001b[0m\u001b[0m\n",
      "\u001b[0;31mKeyboardInterrupt\u001b[0m: "
     ]
    }
   ],
   "source": [
    "slen=24\n",
    "w = np.array([delta**i for i in range(slen+2)]).reshape((-1,1))\n",
    "for epoch in range(1000000):\n",
    "    env_pool = [env(agresp, agupd) for _ in range(60)]\n",
    "    batched_history = [envi() for envi in env_pool]\n",
    "    \n",
    "    for t in range(slen):\n",
    "        batched_resp = agresp(batched_history)\n",
    "        for i, envi in enumerate(env_pool):\n",
    "            envi.roll(batched_resp[i])\n",
    "        \n",
    "        batched_history = [envi() for envi in env_pool]\n",
    "        batched_rewards = [envi.ag.rewards for envi in env_pool]\n",
    "        batched_actions = [envi.ag.actions for envi in env_pool]\n",
    "        \n",
    "    for _ in range(1):\n",
    "        if random.random() < 0.5:\n",
    "            i = 0\n",
    "        else:\n",
    "            i = 1\n",
    "        agupd[i](batched_history, batched_rewards, batched_actions, 0.001)\n",
    "        \n",
    "    rews += [np.mean(batched_rewards)]\n",
    "    drews += [np.mean(np.matmul(np.array(batched_rewards), w))*(1-delta)]\n",
    "    if epoch % 10 == 0:\n",
    "            recent = ag.q.eval({ag.var : np.array([[[1.,0.,0.,0.]]*4 + [[0,1,0,0]] + [[0,0,1,0]] + [[0,0,0,1]]*2 + [[0,1,0,0]]*2], dtype='float32')})*(1-delta)\n",
    "    if epoch % 10 == 0:\n",
    "        clear_output()\n",
    "        plt.plot(rews, label='rews')\n",
    "        plt.show()\n",
    "        plt.plot(drews, label='drews')\n",
    "        plt.show()\n",
    "        print(np.mean(np.array(batched_rewards)[:,3] == 2))\n",
    "        print(recent)"
   ]
  },
  {
   "cell_type": "code",
   "execution_count": 21,
   "metadata": {
    "collapsed": false
   },
   "outputs": [
    {
     "data": {
      "text/plain": [
       "[0.0, 0.0, 1.0, 0.0]"
      ]
     },
     "execution_count": 21,
     "metadata": {},
     "output_type": "execute_result"
    }
   ],
   "source": [
    "action_encoder([0,1])"
   ]
  },
  {
   "cell_type": "code",
   "execution_count": 22,
   "metadata": {
    "collapsed": false
   },
   "outputs": [
    {
     "data": {
      "text/plain": [
       "[1.0, 0.0, 0.0, 0.0]"
      ]
     },
     "execution_count": 22,
     "metadata": {},
     "output_type": "execute_result"
    }
   ],
   "source": [
    "action_encoder([0,0])"
   ]
  },
  {
   "cell_type": "code",
   "execution_count": 23,
   "metadata": {
    "collapsed": false
   },
   "outputs": [
    {
     "data": {
      "text/plain": [
       "array([[[ 1.86222684,  1.47555971],\n",
       "        [ 1.81071961,  1.66799259],\n",
       "        [ 1.80447698,  1.6658839 ],\n",
       "        [ 1.7948401 ,  1.65159249],\n",
       "        [ 1.26335287,  1.36889219],\n",
       "        [ 0.76735848,  1.11218083],\n",
       "        [ 0.43078461,  0.93730223],\n",
       "        [ 0.46924359,  0.95395523],\n",
       "        [ 0.45982745,  0.95110661],\n",
       "        [ 0.46485522,  0.95351005]]], dtype=float32)"
      ]
     },
     "execution_count": 23,
     "metadata": {},
     "output_type": "execute_result"
    }
   ],
   "source": [
    "ag.q.eval({ag.var : np.array([[[1.,0.,0.,0.]]*4 + [[0,1,0,0]] + [[0,0,1,0]] + [[0,0,0,1]]*2 + [[0,1,0,0]]*2], dtype='float32')})*(1-delta)"
   ]
  },
  {
   "cell_type": "code",
   "execution_count": 24,
   "metadata": {
    "collapsed": false
   },
   "outputs": [
    {
     "data": {
      "text/plain": [
       "array([[[ 1.86222684,  1.47555971],\n",
       "        [ 1.81071961,  1.66799259],\n",
       "        [ 1.80447698,  1.6658839 ],\n",
       "        [ 1.7948401 ,  1.65159249],\n",
       "        [ 1.79555011,  1.64638424],\n",
       "        [ 1.79701447,  1.64438224],\n",
       "        [ 1.79838657,  1.6437515 ],\n",
       "        [ 1.79805517,  1.64306867],\n",
       "        [ 1.79609478,  1.64196777],\n",
       "        [ 1.79355168,  1.64076626],\n",
       "        [ 1.79127336,  1.6397779 ],\n",
       "        [ 1.78961706,  1.63911617],\n",
       "        [ 1.78862047,  1.63876486],\n",
       "        [ 1.7881763 ,  1.63865674],\n",
       "        [ 1.78813076,  1.63871408],\n",
       "        [ 1.78833747,  1.63886726],\n",
       "        [ 1.78867722,  1.63906229],\n",
       "        [ 1.78906572,  1.63926435],\n",
       "        [ 1.78945124,  1.63945317],\n",
       "        [ 1.78980577,  1.6396184 ],\n",
       "        [ 1.79011893,  1.63975906],\n",
       "        [ 1.79038882,  1.6398766 ],\n",
       "        [ 1.79062057,  1.63997471],\n",
       "        [ 1.79081917,  1.64005768],\n",
       "        [ 1.79099226,  1.64012873],\n",
       "        [ 1.79114473,  1.64019108],\n",
       "        [ 1.79128182,  1.64024711],\n",
       "        [ 1.79140592,  1.64029801],\n",
       "        [ 1.79152   ,  1.64034522],\n",
       "        [ 1.79162478,  1.64038908]]], dtype=float32)"
      ]
     },
     "execution_count": 24,
     "metadata": {},
     "output_type": "execute_result"
    }
   ],
   "source": [
    "ag.q.eval({ag.var : np.array([[[1.,0.,0.,0.]]*30], dtype='float32')})*(1-delta)"
   ]
  },
  {
   "cell_type": "code",
   "execution_count": null,
   "metadata": {
    "collapsed": true
   },
   "outputs": [],
   "source": []
  }
 ],
 "metadata": {
  "anaconda-cloud": {},
  "kernelspec": {
   "display_name": "Python 2",
   "language": "python",
   "name": "python2"
  },
  "language_info": {
   "codemirror_mode": {
    "name": "ipython",
    "version": 2
   },
   "file_extension": ".py",
   "mimetype": "text/x-python",
   "name": "python",
   "nbconvert_exporter": "python",
   "pygments_lexer": "ipython2",
   "version": "2.7.13"
  }
 },
 "nbformat": 4,
 "nbformat_minor": 1
}
